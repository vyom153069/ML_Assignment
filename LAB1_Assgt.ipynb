{
 "cells": [
  {
   "cell_type": "markdown",
   "id": "unique-hughes",
   "metadata": {},
   "source": [
    "### Ques1: Create a program that asks the user to enter their name and their age. Print out a message addressed to them that tells them the year that they will turn 100 years old. "
   ]
  },
  {
   "cell_type": "code",
   "execution_count": 1,
   "id": "nervous-resort",
   "metadata": {},
   "outputs": [
    {
     "name": "stdout",
     "output_type": "stream",
     "text": [
      "Enter your name \n",
      "Manvir Singh Channa\n",
      "Enter your age \n",
      "21\n",
      "Welcome Manvir Singh Channa! You are 21 years old. You will turn 100 years old in 2100.\n"
     ]
    }
   ],
   "source": [
    "from datetime import datetime\n",
    "name = input('Enter your name \\n')\n",
    "age = int(input('Enter your age \\n'))\n",
    "year = int((100-age) + datetime.now().year)\n",
    "print ('Welcome %s! You are %s years old. You will turn 100 years old in %s.' % (name, age, year))"
   ]
  },
  {
   "cell_type": "markdown",
   "id": "approximate-lancaster",
   "metadata": {},
   "source": [
    "### Extras: i) Add on to the previous program by asking the user for another number and printing out that many copies of the previous message. "
   ]
  },
  {
   "cell_type": "code",
   "execution_count": 2,
   "id": "thick-malaysia",
   "metadata": {},
   "outputs": [
    {
     "name": "stdout",
     "output_type": "stream",
     "text": [
      "How many copies of the above message do you want?\n",
      "2\n",
      "Welcome Manvir Singh Channa! You are 21 years old. You will turn 100 years old in 2100.Welcome Manvir Singh Channa! You are 21 years old. You will turn 100 years old in 2100.\n"
     ]
    }
   ],
   "source": [
    "copies = int(input('How many copies of the above message do you want?\\n'))\n",
    "msg = (\"Welcome %s! You are %s years old. You will turn 100 years old in %s.\" % (name, age, year))\n",
    "print(msg * copies)"
   ]
  },
  {
   "cell_type": "markdown",
   "id": "accessory-methodology",
   "metadata": {},
   "source": [
    "### Extras ii) Print out the copies of above message on seperate lines."
   ]
  },
  {
   "cell_type": "code",
   "execution_count": 3,
   "id": "military-scientist",
   "metadata": {},
   "outputs": [
    {
     "name": "stdout",
     "output_type": "stream",
     "text": [
      "How many copies of the above message do you want?\n",
      "3\n",
      "Welcome Manvir Singh Channa! You are 21 years old. You will turn 100 years old in 2100. \n",
      "Welcome Manvir Singh Channa! You are 21 years old. You will turn 100 years old in 2100. \n",
      "Welcome Manvir Singh Channa! You are 21 years old. You will turn 100 years old in 2100. \n",
      "\n"
     ]
    }
   ],
   "source": [
    "copies = int(input('How many copies of the above message do you want?\\n'))\n",
    "msg = (\"Welcome %s! You are %s years old. You will turn 100 years old in %s. \\n\" % (name, age, year))\n",
    "print(msg * copies)"
   ]
  },
  {
   "cell_type": "markdown",
   "id": "needed-anime",
   "metadata": {},
   "source": [
    "### Ques2: Take a list, say for example this one:\n",
    "### a = [1,1,2,3,5,8,13,21,34,55,89]\n",
    "### and write a program that prints out all the elements of the list that are less than 5."
   ]
  },
  {
   "cell_type": "code",
   "execution_count": 41,
   "id": "cognitive-papua",
   "metadata": {},
   "outputs": [
    {
     "name": "stdout",
     "output_type": "stream",
     "text": [
      "1\n",
      "1\n",
      "2\n",
      "3\n"
     ]
    }
   ],
   "source": [
    "a = [1, 1, 2, 3, 5, 8, 13, 21, 34, 55, 89]\n",
    "for item in a:\n",
    "    if item < 5:\n",
    "        print(item)"
   ]
  },
  {
   "cell_type": "markdown",
   "id": "graduate-trade",
   "metadata": {},
   "source": [
    "### Extras i) Instead of printing the elements one by one, make a new list that has all the elements less than 5 from this list and print out this new list. "
   ]
  },
  {
   "cell_type": "code",
   "execution_count": null,
   "id": "documented-width",
   "metadata": {},
   "outputs": [],
   "source": []
  },
  {
   "cell_type": "code",
   "execution_count": 42,
   "id": "psychological-stationery",
   "metadata": {},
   "outputs": [
    {
     "name": "stdout",
     "output_type": "stream",
     "text": [
      "[1, 1, 2, 3]\n"
     ]
    }
   ],
   "source": [
    "actual_list = [1, 1, 2, 3, 5, 8, 13, 21, 34, 55, 89]\n",
    "\n",
    "new_list = []\n",
    "\n",
    "for item in actual_list:\n",
    "    if item < 5:\n",
    "        new_list.append(item)\n",
    "print(new_list)"
   ]
  },
  {
   "cell_type": "markdown",
   "id": "national-recycling",
   "metadata": {},
   "source": [
    "### write this using one line of code "
   ]
  },
  {
   "cell_type": "code",
   "execution_count": 50,
   "id": "verified-criminal",
   "metadata": {},
   "outputs": [
    {
     "name": "stdout",
     "output_type": "stream",
     "text": [
      "[1, 1, 2, 3]\n"
     ]
    }
   ],
   "source": [
    "actual_list = [1, 1, 2, 3, 5, 8, 13, 21, 34, 55, 89]\n",
    "\n",
    "new_list = []\n",
    "[new_list.append(i) for i in actual_list if i < 5]\n",
    "print(new_list)"
   ]
  },
  {
   "cell_type": "markdown",
   "id": "social-christmas",
   "metadata": {},
   "source": [
    "### Extras ii) Ask a user for a number and return a list that contains only elements from the original list that are smaller than the number entered by the user. "
   ]
  },
  {
   "cell_type": "code",
   "execution_count": 43,
   "id": "romantic-australia",
   "metadata": {},
   "outputs": [
    {
     "name": "stdout",
     "output_type": "stream",
     "text": [
      "Enter a number \n",
      "37\n",
      "Numbers smaller than 37 are\n",
      "[1, 1, 2, 3, 5, 8, 13, 21, 34]\n"
     ]
    }
   ],
   "source": [
    "actual_list = [1, 1, 2, 3, 5, 8, 13, 21, 34, 55, 89]\n",
    "user_list = []\n",
    "num = int(input('Enter a number \\n'))\n",
    "for item in actual_list:\n",
    "    if item < num:\n",
    "        user_list.append(item)\n",
    "          \n",
    "print ('Numbers smaller than %s are'  % (num))\n",
    "print(user_list)"
   ]
  },
  {
   "cell_type": "markdown",
   "id": "confidential-rugby",
   "metadata": {},
   "source": [
    "### Ques3:  Write a program that asks the user how many Fibonacci numbers to generate and then generates them. Take this opportunity to think about how you can use functions. Make sure to ask the user to enter the number of numbers in the sequence to generate.\n",
    "\n",
    "### (Hint: The Fibonacci seqence is a sequence of numbers where the next number in the sequence is the sum of the previous two numbers in the sequence. The sequence looks like this: 1, 1, 2, 3, 5, 8, 13, ...)"
   ]
  },
  {
   "cell_type": "code",
   "execution_count": 44,
   "id": "advanced-alberta",
   "metadata": {},
   "outputs": [
    {
     "name": "stdout",
     "output_type": "stream",
     "text": [
      "How many fibnocci numbers to generate?:15\n",
      "[1, 1, 2, 3, 5, 8, 13, 21, 34, 55, 89, 144, 233, 377, 610]\n"
     ]
    }
   ],
   "source": [
    "def fibonacci():\n",
    "    num = int(input(\"How many fibnocci numbers to generate?:\"))\n",
    "    i = 1\n",
    "    if num == 0:\n",
    "        fib = []\n",
    "    elif num == 1:\n",
    "        fib = [1]\n",
    "    elif num == 2:\n",
    "        fib = [1,1]\n",
    "    elif num > 2:\n",
    "        fib = [1,1]\n",
    "        while i < (num - 1):\n",
    "            fib.append(fib[i] + fib[i-1])\n",
    "            i += 1\n",
    "    return fib\n",
    "print(fibonacci())"
   ]
  },
  {
   "cell_type": "markdown",
   "id": "gothic-heating",
   "metadata": {},
   "source": [
    "### Ques 4: Write a program (function!) that takes a list and returns a new list that contains all the elements of the first list minus all the duplicates.\n",
    "\n",
    "### Extras: Write two different functions to do this - one using a loop and constructing a list, and another using sets."
   ]
  },
  {
   "cell_type": "code",
   "execution_count": 45,
   "id": "third-anthony",
   "metadata": {},
   "outputs": [
    {
     "name": "stdout",
     "output_type": "stream",
     "text": [
      "['Hello', 'Hiii', 'Okay', 'Byee', 'Hey!', 'See yaa!', 'Hey']\n"
     ]
    }
   ],
   "source": [
    "#using for loop & lists \n",
    "\n",
    "orig_list = ['Hello', 'Hiii', 'Okay', 'Byee', 'Hey!', 'See yaa!', 'Hello', 'Byee', 'Hey']\n",
    "new_list =[]\n",
    "\n",
    "def doing_Something(orig_list):\n",
    "    for i in orig_list:\n",
    "        if i not in new_list:\n",
    "            new_list.append(i)\n",
    "            \n",
    "    return new_list\n",
    "\n",
    "print(doing_Something(orig_list))\n",
    "    \n",
    "   "
   ]
  },
  {
   "cell_type": "code",
   "execution_count": 46,
   "id": "varying-quantum",
   "metadata": {},
   "outputs": [
    {
     "name": "stdout",
     "output_type": "stream",
     "text": [
      "['Hiii', 'Byee', 'Hello', 'Okay', 'Hey', 'See yaa!', 'Hey!']\n"
     ]
    }
   ],
   "source": [
    "#using sets \n",
    "orig_list = ['Hello', 'Hiii', 'Okay', 'Byee', 'Hey!', 'See yaa!', 'Hello', 'Byee', 'Hey']\n",
    "print(list(set(orig_list)))"
   ]
  },
  {
   "cell_type": "markdown",
   "id": "derived-blogger",
   "metadata": {},
   "source": [
    "### Ques 5: Ask the user for a number and determine whether the number is prime or not. (For those who have forgotten, a prime number is a number that has no divisors.). Use functions."
   ]
  },
  {
   "cell_type": "code",
   "execution_count": 60,
   "id": "monetary-overview",
   "metadata": {},
   "outputs": [
    {
     "name": "stdout",
     "output_type": "stream",
     "text": [
      "Enter a number \n",
      "78\n",
      "78 is not a prime number\n",
      "2 times 39 is 78\n"
     ]
    }
   ],
   "source": [
    "def Prime(num):\n",
    "    if num > 1:  \n",
    "        for i in range(2,num//2):  \n",
    "            if (num % i) == 0:  \n",
    "                print(num,\"is not a prime number\")  \n",
    "                print(i,\"times\",num//i,\"is\",num) \n",
    "                break\n",
    "        else:  \n",
    "            print(num,\"is a prime number\")  \n",
    "    else:\n",
    "        print(\"number should be greater than 1\")\n",
    "\n",
    "num = int(input('Enter a number \\n'))\n",
    "Prime(int(num))"
   ]
  },
  {
   "cell_type": "code",
   "execution_count": null,
   "id": "vocal-empty",
   "metadata": {},
   "outputs": [],
   "source": []
  },
  {
   "cell_type": "code",
   "execution_count": null,
   "id": "official-latex",
   "metadata": {},
   "outputs": [],
   "source": []
  }
 ],
 "metadata": {
  "kernelspec": {
   "display_name": "Python 3",
   "language": "python",
   "name": "python3"
  },
  "language_info": {
   "codemirror_mode": {
    "name": "ipython",
    "version": 3
   },
   "file_extension": ".py",
   "mimetype": "text/x-python",
   "name": "python",
   "nbconvert_exporter": "python",
   "pygments_lexer": "ipython3",
   "version": "3.7.4"
  }
 },
 "nbformat": 4,
 "nbformat_minor": 5
}
