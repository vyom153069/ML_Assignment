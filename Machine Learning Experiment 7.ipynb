{
 "cells": [
  {
   "cell_type": "code",
   "execution_count": 1,
   "metadata": {
    "id": "DJj-uzyyH4bf"
   },
   "outputs": [],
   "source": [
    "import pandas as pd\n",
    "import numpy as np\n",
    "import matplotlib.pyplot as plt\n"
   ]
  },
  {
   "cell_type": "code",
   "execution_count": 2,
   "metadata": {
    "id": "-eNFVBpLIHlu"
   },
   "outputs": [],
   "source": [
    "df=pd.read_csv('movies.csv')"
   ]
  },
  {
   "cell_type": "code",
   "execution_count": 3,
   "metadata": {
    "colab": {
     "base_uri": "https://localhost:8080/",
     "height": 173
    },
    "id": "livcu60WINb4",
    "outputId": "bef3e39b-8e6f-4af9-e607-37800737ec2d"
   },
   "outputs": [
    {
     "data": {
      "text/html": [
       "<div>\n",
       "<style scoped>\n",
       "    .dataframe tbody tr th:only-of-type {\n",
       "        vertical-align: middle;\n",
       "    }\n",
       "\n",
       "    .dataframe tbody tr th {\n",
       "        vertical-align: top;\n",
       "    }\n",
       "\n",
       "    .dataframe thead th {\n",
       "        text-align: right;\n",
       "    }\n",
       "</style>\n",
       "<table border=\"1\" class=\"dataframe\">\n",
       "  <thead>\n",
       "    <tr style=\"text-align: right;\">\n",
       "      <th></th>\n",
       "      <th>Audience score %</th>\n",
       "      <th>Profitability</th>\n",
       "      <th>Rotten Tomatoes %</th>\n",
       "      <th>Year</th>\n",
       "    </tr>\n",
       "  </thead>\n",
       "  <tbody>\n",
       "    <tr>\n",
       "      <th>Audience score %</th>\n",
       "      <td>1.000000</td>\n",
       "      <td>0.066278</td>\n",
       "      <td>0.608333</td>\n",
       "      <td>-0.229926</td>\n",
       "    </tr>\n",
       "    <tr>\n",
       "      <th>Profitability</th>\n",
       "      <td>0.066278</td>\n",
       "      <td>1.000000</td>\n",
       "      <td>0.042428</td>\n",
       "      <td>-0.182130</td>\n",
       "    </tr>\n",
       "    <tr>\n",
       "      <th>Rotten Tomatoes %</th>\n",
       "      <td>0.608333</td>\n",
       "      <td>0.042428</td>\n",
       "      <td>1.000000</td>\n",
       "      <td>-0.093111</td>\n",
       "    </tr>\n",
       "    <tr>\n",
       "      <th>Year</th>\n",
       "      <td>-0.229926</td>\n",
       "      <td>-0.182130</td>\n",
       "      <td>-0.093111</td>\n",
       "      <td>1.000000</td>\n",
       "    </tr>\n",
       "  </tbody>\n",
       "</table>\n",
       "</div>"
      ],
      "text/plain": [
       "                   Audience score %  Profitability  Rotten Tomatoes %  \\\n",
       "Audience score %           1.000000       0.066278           0.608333   \n",
       "Profitability              0.066278       1.000000           0.042428   \n",
       "Rotten Tomatoes %          0.608333       0.042428           1.000000   \n",
       "Year                      -0.229926      -0.182130          -0.093111   \n",
       "\n",
       "                       Year  \n",
       "Audience score %  -0.229926  \n",
       "Profitability     -0.182130  \n",
       "Rotten Tomatoes % -0.093111  \n",
       "Year               1.000000  "
      ]
     },
     "execution_count": 3,
     "metadata": {},
     "output_type": "execute_result"
    }
   ],
   "source": [
    "df.corr()"
   ]
  },
  {
   "cell_type": "code",
   "execution_count": 4,
   "metadata": {
    "id": "AwRgl1kfIcZ2"
   },
   "outputs": [],
   "source": [
    "dt= pd.DataFrame(index=range(0,len(df)), columns=['Audience score %','Rotten Tomatoes %'])\n",
    "for i in range(0,len(dt)):\n",
    "  dt['Audience score %'][i]= df['Audience score %'][i]\n",
    "  dt['Rotten Tomatoes %'][i]= df['Rotten Tomatoes %'] [i]"
   ]
  },
  {
   "cell_type": "code",
   "execution_count": 5,
   "metadata": {
    "colab": {
     "base_uri": "https://localhost:8080/",
     "height": 419
    },
    "id": "pTbqs-LJLFd_",
    "outputId": "62409789-58f7-4cd7-dafd-38ef1fe3a5b7"
   },
   "outputs": [
    {
     "data": {
      "text/html": [
       "<div>\n",
       "<style scoped>\n",
       "    .dataframe tbody tr th:only-of-type {\n",
       "        vertical-align: middle;\n",
       "    }\n",
       "\n",
       "    .dataframe tbody tr th {\n",
       "        vertical-align: top;\n",
       "    }\n",
       "\n",
       "    .dataframe thead th {\n",
       "        text-align: right;\n",
       "    }\n",
       "</style>\n",
       "<table border=\"1\" class=\"dataframe\">\n",
       "  <thead>\n",
       "    <tr style=\"text-align: right;\">\n",
       "      <th></th>\n",
       "      <th>Audience score %</th>\n",
       "      <th>Rotten Tomatoes %</th>\n",
       "    </tr>\n",
       "  </thead>\n",
       "  <tbody>\n",
       "    <tr>\n",
       "      <th>0</th>\n",
       "      <td>70</td>\n",
       "      <td>64</td>\n",
       "    </tr>\n",
       "    <tr>\n",
       "      <th>1</th>\n",
       "      <td>52</td>\n",
       "      <td>68</td>\n",
       "    </tr>\n",
       "    <tr>\n",
       "      <th>2</th>\n",
       "      <td>35</td>\n",
       "      <td>43</td>\n",
       "    </tr>\n",
       "    <tr>\n",
       "      <th>3</th>\n",
       "      <td>44</td>\n",
       "      <td>15</td>\n",
       "    </tr>\n",
       "    <tr>\n",
       "      <th>4</th>\n",
       "      <td>72</td>\n",
       "      <td>28</td>\n",
       "    </tr>\n",
       "    <tr>\n",
       "      <th>...</th>\n",
       "      <td>...</td>\n",
       "      <td>...</td>\n",
       "    </tr>\n",
       "    <tr>\n",
       "      <th>72</th>\n",
       "      <td>84</td>\n",
       "      <td>54</td>\n",
       "    </tr>\n",
       "    <tr>\n",
       "      <th>73</th>\n",
       "      <td>64</td>\n",
       "      <td>89</td>\n",
       "    </tr>\n",
       "    <tr>\n",
       "      <th>74</th>\n",
       "      <td>89</td>\n",
       "      <td>79</td>\n",
       "    </tr>\n",
       "    <tr>\n",
       "      <th>75</th>\n",
       "      <td>71</td>\n",
       "      <td>40</td>\n",
       "    </tr>\n",
       "    <tr>\n",
       "      <th>76</th>\n",
       "      <td>81</td>\n",
       "      <td>87</td>\n",
       "    </tr>\n",
       "  </tbody>\n",
       "</table>\n",
       "<p>77 rows × 2 columns</p>\n",
       "</div>"
      ],
      "text/plain": [
       "   Audience score % Rotten Tomatoes %\n",
       "0                70                64\n",
       "1                52                68\n",
       "2                35                43\n",
       "3                44                15\n",
       "4                72                28\n",
       "..              ...               ...\n",
       "72               84                54\n",
       "73               64                89\n",
       "74               89                79\n",
       "75               71                40\n",
       "76               81                87\n",
       "\n",
       "[77 rows x 2 columns]"
      ]
     },
     "execution_count": 5,
     "metadata": {},
     "output_type": "execute_result"
    }
   ],
   "source": [
    "dt"
   ]
  },
  {
   "cell_type": "code",
   "execution_count": 6,
   "metadata": {
    "id": "NWBlsQwCM6Ik"
   },
   "outputs": [],
   "source": [
    "x = dt['Audience score %']\n",
    "y= dt['Rotten Tomatoes %']\n",
    "x=np.array(x)\n",
    "x=x.reshape(-1,1)\n",
    "y=np.array(y)\n",
    "y=y.reshape(-1,1)"
   ]
  },
  {
   "cell_type": "code",
   "execution_count": 7,
   "metadata": {
    "colab": {
     "base_uri": "https://localhost:8080/"
    },
    "id": "fboY-ooWMDUl",
    "outputId": "30498d66-2b21-4403-a07a-95702f6b548f"
   },
   "outputs": [
    {
     "data": {
      "text/plain": [
       "LinearRegression()"
      ]
     },
     "execution_count": 7,
     "metadata": {},
     "output_type": "execute_result"
    }
   ],
   "source": [
    "from sklearn.model_selection import train_test_split\n",
    "from sklearn.linear_model import LinearRegression\n",
    "x_train,x_test,y_train,y_test= train_test_split(x,y, test_size=0.2, random_state=42)\n",
    "model = LinearRegression()\n",
    "model.fit(x_train,y_train)"
   ]
  },
  {
   "cell_type": "code",
   "execution_count": 8,
   "metadata": {
    "colab": {
     "base_uri": "https://localhost:8080/"
    },
    "id": "jN2hGhvgNV0B",
    "outputId": "bcda3aca-cbdf-4f3c-c432-e80a24b3da7c"
   },
   "outputs": [
    {
     "data": {
      "text/plain": [
       "array([[58.70663406],\n",
       "       [51.26782559],\n",
       "       [27.71159877],\n",
       "       [56.22703123],\n",
       "       [63.6658397 ],\n",
       "       [45.06881853],\n",
       "       [27.71159877],\n",
       "       [30.1912016 ],\n",
       "       [46.30861994],\n",
       "       [56.22703123],\n",
       "       [32.67080442],\n",
       "       [79.78325805],\n",
       "       [20.27279031],\n",
       "       [71.10464817],\n",
       "       [47.54842135],\n",
       "       [30.1912016 ]])"
      ]
     },
     "execution_count": 8,
     "metadata": {},
     "output_type": "execute_result"
    }
   ],
   "source": [
    "pred = model.predict(x_test)\n",
    "pred"
   ]
  },
  {
   "cell_type": "code",
   "execution_count": 9,
   "metadata": {
    "colab": {
     "base_uri": "https://localhost:8080/",
     "height": 285
    },
    "id": "MGaute6uNkA3",
    "outputId": "7ab4a2a0-1469-4c0d-a04a-38a5f6dddbc8"
   },
   "outputs": [
    {
     "data": {
      "text/plain": [
       "[<matplotlib.lines.Line2D at 0x1c7ff7020d0>]"
      ]
     },
     "execution_count": 9,
     "metadata": {},
     "output_type": "execute_result"
    },
    {
     "data": {
      "image/png": "[encoded data removed]",
      "text/plain": [
       "<Figure size 432x288 with 1 Axes>"
      ]
     },
     "metadata": {
      "needs_background": "light"
     },
     "output_type": "display_data"
    }
   ],
   "source": [
    "plt.plot(pred)\n",
    "plt.plot(y_test)\n",
    "plt.plot(y_train)"
   ]
  },
  {
   "cell_type": "code",
   "execution_count": null,
   "metadata": {
    "id": "AUJpIMJ_NkCK"
   },
   "outputs": [],
   "source": []
  }
 ],
 "metadata": {
  "colab": {
   "collapsed_sections": [],
   "name": "EXP7.ipynb",
   "provenance": []
  },
  "kernelspec": {
   "display_name": "Python 3",
   "language": "python",
   "name": "python3"
  },
  "language_info": {
   "codemirror_mode": {
    "name": "ipython",
    "version": 3
   },
   "file_extension": ".py",
   "mimetype": "text/x-python",
   "name": "python",
   "nbconvert_exporter": "python",
   "pygments_lexer": "ipython3",
   "version": "3.9.1"
  }
 },
 "nbformat": 4,
 "nbformat_minor": 1
}
