{
 "cells": [
  {
   "cell_type": "code",
   "execution_count": 1,
   "id": "89fad046",
   "metadata": {},
   "outputs": [],
   "source": [
    "import pandas as pd\n",
    "import numpy as np\n",
    "import matplotlib.pyplot as plt\n",
    "from sklearn.cluster import KMeans"
   ]
  },
  {
   "cell_type": "code",
   "execution_count": 2,
   "id": "484f7979",
   "metadata": {},
   "outputs": [],
   "source": [
    "df1 = pd.read_csv(\"Country-data.csv\")\n",
    "df2 = pd.read_csv(\"creditcard.csv\")"
   ]
  },
  {
   "cell_type": "code",
   "execution_count": 3,
   "id": "7a5a2e95",
   "metadata": {},
   "outputs": [
    {
     "data": {
      "text/html": [
       "<div>\n",
       "<style scoped>\n",
       "    .dataframe tbody tr th:only-of-type {\n",
       "        vertical-align: middle;\n",
       "    }\n",
       "\n",
       "    .dataframe tbody tr th {\n",
       "        vertical-align: top;\n",
       "    }\n",
       "\n",
       "    .dataframe thead th {\n",
       "        text-align: right;\n",
       "    }\n",
       "</style>\n",
       "<table border=\"1\" class=\"dataframe\">\n",
       "  <thead>\n",
       "    <tr style=\"text-align: right;\">\n",
       "      <th></th>\n",
       "      <th>country</th>\n",
       "      <th>child_mort</th>\n",
       "      <th>exports</th>\n",
       "      <th>health</th>\n",
       "      <th>imports</th>\n",
       "      <th>income</th>\n",
       "      <th>inflation</th>\n",
       "      <th>life_expec</th>\n",
       "      <th>total_fer</th>\n",
       "      <th>gdpp</th>\n",
       "    </tr>\n",
       "  </thead>\n",
       "  <tbody>\n",
       "    <tr>\n",
       "      <th>0</th>\n",
       "      <td>Afghanistan</td>\n",
       "      <td>90.2</td>\n",
       "      <td>10.0</td>\n",
       "      <td>7.58</td>\n",
       "      <td>44.9</td>\n",
       "      <td>1610</td>\n",
       "      <td>9.44</td>\n",
       "      <td>56.2</td>\n",
       "      <td>5.82</td>\n",
       "      <td>553</td>\n",
       "    </tr>\n",
       "    <tr>\n",
       "      <th>1</th>\n",
       "      <td>Albania</td>\n",
       "      <td>16.6</td>\n",
       "      <td>28.0</td>\n",
       "      <td>6.55</td>\n",
       "      <td>48.6</td>\n",
       "      <td>9930</td>\n",
       "      <td>4.49</td>\n",
       "      <td>76.3</td>\n",
       "      <td>1.65</td>\n",
       "      <td>4090</td>\n",
       "    </tr>\n",
       "    <tr>\n",
       "      <th>2</th>\n",
       "      <td>Algeria</td>\n",
       "      <td>27.3</td>\n",
       "      <td>38.4</td>\n",
       "      <td>4.17</td>\n",
       "      <td>31.4</td>\n",
       "      <td>12900</td>\n",
       "      <td>16.10</td>\n",
       "      <td>76.5</td>\n",
       "      <td>2.89</td>\n",
       "      <td>4460</td>\n",
       "    </tr>\n",
       "    <tr>\n",
       "      <th>3</th>\n",
       "      <td>Angola</td>\n",
       "      <td>119.0</td>\n",
       "      <td>62.3</td>\n",
       "      <td>2.85</td>\n",
       "      <td>42.9</td>\n",
       "      <td>5900</td>\n",
       "      <td>22.40</td>\n",
       "      <td>60.1</td>\n",
       "      <td>6.16</td>\n",
       "      <td>3530</td>\n",
       "    </tr>\n",
       "    <tr>\n",
       "      <th>4</th>\n",
       "      <td>Antigua and Barbuda</td>\n",
       "      <td>10.3</td>\n",
       "      <td>45.5</td>\n",
       "      <td>6.03</td>\n",
       "      <td>58.9</td>\n",
       "      <td>19100</td>\n",
       "      <td>1.44</td>\n",
       "      <td>76.8</td>\n",
       "      <td>2.13</td>\n",
       "      <td>12200</td>\n",
       "    </tr>\n",
       "  </tbody>\n",
       "</table>\n",
       "</div>"
      ],
      "text/plain": [
       "               country  child_mort  exports  health  imports  income  \\\n",
       "0          Afghanistan        90.2     10.0    7.58     44.9    1610   \n",
       "1              Albania        16.6     28.0    6.55     48.6    9930   \n",
       "2              Algeria        27.3     38.4    4.17     31.4   12900   \n",
       "3               Angola       119.0     62.3    2.85     42.9    5900   \n",
       "4  Antigua and Barbuda        10.3     45.5    6.03     58.9   19100   \n",
       "\n",
       "   inflation  life_expec  total_fer   gdpp  \n",
       "0       9.44        56.2       5.82    553  \n",
       "1       4.49        76.3       1.65   4090  \n",
       "2      16.10        76.5       2.89   4460  \n",
       "3      22.40        60.1       6.16   3530  \n",
       "4       1.44        76.8       2.13  12200  "
      ]
     },
     "execution_count": 3,
     "metadata": {},
     "output_type": "execute_result"
    }
   ],
   "source": [
    "df1.head()"
   ]
  },
  {
   "cell_type": "code",
   "execution_count": 4,
   "id": "5d460689",
   "metadata": {},
   "outputs": [
    {
     "data": {
      "text/html": [
       "<div>\n",
       "<style scoped>\n",
       "    .dataframe tbody tr th:only-of-type {\n",
       "        vertical-align: middle;\n",
       "    }\n",
       "\n",
       "    .dataframe tbody tr th {\n",
       "        vertical-align: top;\n",
       "    }\n",
       "\n",
       "    .dataframe thead th {\n",
       "        text-align: right;\n",
       "    }\n",
       "</style>\n",
       "<table border=\"1\" class=\"dataframe\">\n",
       "  <thead>\n",
       "    <tr style=\"text-align: right;\">\n",
       "      <th></th>\n",
       "      <th>Time</th>\n",
       "      <th>V1</th>\n",
       "      <th>V2</th>\n",
       "      <th>V3</th>\n",
       "      <th>V4</th>\n",
       "      <th>V5</th>\n",
       "      <th>V6</th>\n",
       "      <th>V7</th>\n",
       "      <th>V8</th>\n",
       "      <th>V9</th>\n",
       "      <th>...</th>\n",
       "      <th>V21</th>\n",
       "      <th>V22</th>\n",
       "      <th>V23</th>\n",
       "      <th>V24</th>\n",
       "      <th>V25</th>\n",
       "      <th>V26</th>\n",
       "      <th>V27</th>\n",
       "      <th>V28</th>\n",
       "      <th>Amount</th>\n",
       "      <th>Class</th>\n",
       "    </tr>\n",
       "  </thead>\n",
       "  <tbody>\n",
       "    <tr>\n",
       "      <th>0</th>\n",
       "      <td>0.0</td>\n",
       "      <td>-1.359807</td>\n",
       "      <td>-0.072781</td>\n",
       "      <td>2.536347</td>\n",
       "      <td>1.378155</td>\n",
       "      <td>-0.338321</td>\n",
       "      <td>0.462388</td>\n",
       "      <td>0.239599</td>\n",
       "      <td>0.098698</td>\n",
       "      <td>0.363787</td>\n",
       "      <td>...</td>\n",
       "      <td>-0.018307</td>\n",
       "      <td>0.277838</td>\n",
       "      <td>-0.110474</td>\n",
       "      <td>0.066928</td>\n",
       "      <td>0.128539</td>\n",
       "      <td>-0.189115</td>\n",
       "      <td>0.133558</td>\n",
       "      <td>-0.021053</td>\n",
       "      <td>149.62</td>\n",
       "      <td>0</td>\n",
       "    </tr>\n",
       "    <tr>\n",
       "      <th>1</th>\n",
       "      <td>0.0</td>\n",
       "      <td>1.191857</td>\n",
       "      <td>0.266151</td>\n",
       "      <td>0.166480</td>\n",
       "      <td>0.448154</td>\n",
       "      <td>0.060018</td>\n",
       "      <td>-0.082361</td>\n",
       "      <td>-0.078803</td>\n",
       "      <td>0.085102</td>\n",
       "      <td>-0.255425</td>\n",
       "      <td>...</td>\n",
       "      <td>-0.225775</td>\n",
       "      <td>-0.638672</td>\n",
       "      <td>0.101288</td>\n",
       "      <td>-0.339846</td>\n",
       "      <td>0.167170</td>\n",
       "      <td>0.125895</td>\n",
       "      <td>-0.008983</td>\n",
       "      <td>0.014724</td>\n",
       "      <td>2.69</td>\n",
       "      <td>0</td>\n",
       "    </tr>\n",
       "    <tr>\n",
       "      <th>2</th>\n",
       "      <td>1.0</td>\n",
       "      <td>-1.358354</td>\n",
       "      <td>-1.340163</td>\n",
       "      <td>1.773209</td>\n",
       "      <td>0.379780</td>\n",
       "      <td>-0.503198</td>\n",
       "      <td>1.800499</td>\n",
       "      <td>0.791461</td>\n",
       "      <td>0.247676</td>\n",
       "      <td>-1.514654</td>\n",
       "      <td>...</td>\n",
       "      <td>0.247998</td>\n",
       "      <td>0.771679</td>\n",
       "      <td>0.909412</td>\n",
       "      <td>-0.689281</td>\n",
       "      <td>-0.327642</td>\n",
       "      <td>-0.139097</td>\n",
       "      <td>-0.055353</td>\n",
       "      <td>-0.059752</td>\n",
       "      <td>378.66</td>\n",
       "      <td>0</td>\n",
       "    </tr>\n",
       "    <tr>\n",
       "      <th>3</th>\n",
       "      <td>1.0</td>\n",
       "      <td>-0.966272</td>\n",
       "      <td>-0.185226</td>\n",
       "      <td>1.792993</td>\n",
       "      <td>-0.863291</td>\n",
       "      <td>-0.010309</td>\n",
       "      <td>1.247203</td>\n",
       "      <td>0.237609</td>\n",
       "      <td>0.377436</td>\n",
       "      <td>-1.387024</td>\n",
       "      <td>...</td>\n",
       "      <td>-0.108300</td>\n",
       "      <td>0.005274</td>\n",
       "      <td>-0.190321</td>\n",
       "      <td>-1.175575</td>\n",
       "      <td>0.647376</td>\n",
       "      <td>-0.221929</td>\n",
       "      <td>0.062723</td>\n",
       "      <td>0.061458</td>\n",
       "      <td>123.50</td>\n",
       "      <td>0</td>\n",
       "    </tr>\n",
       "    <tr>\n",
       "      <th>4</th>\n",
       "      <td>2.0</td>\n",
       "      <td>-1.158233</td>\n",
       "      <td>0.877737</td>\n",
       "      <td>1.548718</td>\n",
       "      <td>0.403034</td>\n",
       "      <td>-0.407193</td>\n",
       "      <td>0.095921</td>\n",
       "      <td>0.592941</td>\n",
       "      <td>-0.270533</td>\n",
       "      <td>0.817739</td>\n",
       "      <td>...</td>\n",
       "      <td>-0.009431</td>\n",
       "      <td>0.798278</td>\n",
       "      <td>-0.137458</td>\n",
       "      <td>0.141267</td>\n",
       "      <td>-0.206010</td>\n",
       "      <td>0.502292</td>\n",
       "      <td>0.219422</td>\n",
       "      <td>0.215153</td>\n",
       "      <td>69.99</td>\n",
       "      <td>0</td>\n",
       "    </tr>\n",
       "  </tbody>\n",
       "</table>\n",
       "<p>5 rows × 31 columns</p>\n",
       "</div>"
      ],
      "text/plain": [
       "   Time        V1        V2        V3        V4        V5        V6        V7  \\\n",
       "0   0.0 -1.359807 -0.072781  2.536347  1.378155 -0.338321  0.462388  0.239599   \n",
       "1   0.0  1.191857  0.266151  0.166480  0.448154  0.060018 -0.082361 -0.078803   \n",
       "2   1.0 -1.358354 -1.340163  1.773209  0.379780 -0.503198  1.800499  0.791461   \n",
       "3   1.0 -0.966272 -0.185226  1.792993 -0.863291 -0.010309  1.247203  0.237609   \n",
       "4   2.0 -1.158233  0.877737  1.548718  0.403034 -0.407193  0.095921  0.592941   \n",
       "\n",
       "         V8        V9  ...       V21       V22       V23       V24       V25  \\\n",
       "0  0.098698  0.363787  ... -0.018307  0.277838 -0.110474  0.066928  0.128539   \n",
       "1  0.085102 -0.255425  ... -0.225775 -0.638672  0.101288 -0.339846  0.167170   \n",
       "2  0.247676 -1.514654  ...  0.247998  0.771679  0.909412 -0.689281 -0.327642   \n",
       "3  0.377436 -1.387024  ... -0.108300  0.005274 -0.190321 -1.175575  0.647376   \n",
       "4 -0.270533  0.817739  ... -0.009431  0.798278 -0.137458  0.141267 -0.206010   \n",
       "\n",
       "        V26       V27       V28  Amount  Class  \n",
       "0 -0.189115  0.133558 -0.021053  149.62      0  \n",
       "1  0.125895 -0.008983  0.014724    2.69      0  \n",
       "2 -0.139097 -0.055353 -0.059752  378.66      0  \n",
       "3 -0.221929  0.062723  0.061458  123.50      0  \n",
       "4  0.502292  0.219422  0.215153   69.99      0  \n",
       "\n",
       "[5 rows x 31 columns]"
      ]
     },
     "execution_count": 4,
     "metadata": {},
     "output_type": "execute_result"
    }
   ],
   "source": [
    "df2.head()"
   ]
  },
  {
   "cell_type": "code",
   "execution_count": 5,
   "id": "5c832501",
   "metadata": {},
   "outputs": [
    {
     "data": {
      "text/plain": [
       "array([0, 1], dtype=int64)"
      ]
     },
     "execution_count": 5,
     "metadata": {},
     "output_type": "execute_result"
    }
   ],
   "source": [
    "np.unique(df2[\"Class\"].values)"
   ]
  },
  {
   "cell_type": "code",
   "execution_count": 6,
   "id": "bfe5d115",
   "metadata": {},
   "outputs": [],
   "source": [
    "df11 = df2[df2.columns[1:]]\n",
    "df21 = df2[df2.columns[:-1]]"
   ]
  },
  {
   "cell_type": "code",
   "execution_count": 7,
   "id": "4480239f",
   "metadata": {},
   "outputs": [],
   "source": [
    "X1 = df11.values\n",
    "X2 = df21.values"
   ]
  },
  {
   "cell_type": "code",
   "execution_count": 8,
   "id": "10a32a77",
   "metadata": {},
   "outputs": [
    {
     "data": {
      "text/plain": [
       "((284807, 30), (284807, 30))"
      ]
     },
     "execution_count": 8,
     "metadata": {},
     "output_type": "execute_result"
    }
   ],
   "source": [
    "X1.shape, X2.shape"
   ]
  },
  {
   "cell_type": "markdown",
   "id": "ca11d660",
   "metadata": {},
   "source": [
    "Country Data for k = 2"
   ]
  },
  {
   "cell_type": "code",
   "execution_count": 9,
   "id": "7d2e65ae",
   "metadata": {},
   "outputs": [],
   "source": [
    "model = KMeans(n_clusters=2, n_init=4, verbose=1, max_iter=3)"
   ]
  },
  {
   "cell_type": "code",
   "execution_count": 10,
   "id": "bcf89a26",
   "metadata": {},
   "outputs": [
    {
     "name": "stdout",
     "output_type": "stream",
     "text": [
      "Initialization complete\n",
      "Iteration 0, inertia 15355477175.982346\n",
      "Iteration 1, inertia 11029741483.103212\n",
      "Iteration 2, inertia 10392052620.156\n",
      "Initialization complete\n",
      "Iteration 0, inertia 11114980702.64728\n",
      "Iteration 1, inertia 9264719549.548733\n",
      "Iteration 2, inertia 9102721435.752607\n",
      "Initialization complete\n",
      "Iteration 0, inertia 12335933988.245417\n",
      "Iteration 1, inertia 10054582314.42063\n",
      "Iteration 2, inertia 9625872693.42902\n",
      "Initialization complete\n",
      "Iteration 0, inertia 12731282274.103073\n",
      "Iteration 1, inertia 10247849537.812023\n",
      "Iteration 2, inertia 9758780502.942104\n"
     ]
    },
    {
     "data": {
      "text/plain": [
       "KMeans(max_iter=3, n_clusters=2, n_init=4, verbose=1)"
      ]
     },
     "execution_count": 10,
     "metadata": {},
     "output_type": "execute_result"
    }
   ],
   "source": [
    "model.fit(X1)"
   ]
  },
  {
   "cell_type": "code",
   "execution_count": 11,
   "id": "6672cc0d",
   "metadata": {},
   "outputs": [
    {
     "data": {
      "text/plain": [
       "array([[ 3.26057855e-02,  5.76572977e-02,  2.51826835e-02,\n",
       "        -1.17976378e-02,  3.44565898e-02, -1.85262634e-02,\n",
       "        -3.69604248e-02,  9.59436742e-03,  3.28556924e-03,\n",
       "         7.94181926e-03, -7.87280491e-04,  8.33871426e-04,\n",
       "        -5.53236011e-04, -3.21306631e-03, -6.21150418e-04,\n",
       "        -1.23735478e-03, -3.89169934e-04, -1.20998738e-03,\n",
       "         3.51151916e-03, -2.11103215e-02, -6.01010005e-03,\n",
       "         4.99521799e-03,  6.32069988e-03, -7.33291634e-04,\n",
       "         2.19754330e-03, -1.24054131e-04, -3.76137105e-04,\n",
       "        -9.19022240e-04,  7.06226133e+01,  1.71319122e-03],\n",
       "       [-3.19518565e+00, -5.65009452e+00, -2.46776293e+00,\n",
       "         1.15610289e+00, -3.37655418e+00,  1.81547079e+00,\n",
       "         3.62191609e+00, -9.40194650e-01, -3.21967514e-01,\n",
       "        -7.78254120e-01,  7.71491098e-02, -8.17147623e-02,\n",
       "         5.42140524e-02,  3.14862629e-01,  6.08692865e-02,\n",
       "         1.21253887e-01,  3.81364892e-02,  1.18572034e-01,\n",
       "        -3.44109348e-01,  2.06869410e+00,  5.88956381e-01,\n",
       "        -4.89503583e-01, -6.19393437e-01,  7.18585020e-02,\n",
       "        -2.15347022e-01,  1.21566150e-02,  3.68593445e-02,\n",
       "         9.00590685e-02,  1.82549762e+03,  3.12825860e-03]])"
      ]
     },
     "execution_count": 11,
     "metadata": {},
     "output_type": "execute_result"
    }
   ],
   "source": [
    "model.cluster_centers_"
   ]
  },
  {
   "cell_type": "code",
   "execution_count": 12,
   "id": "ce88d930",
   "metadata": {},
   "outputs": [
    {
     "data": {
      "text/plain": [
       "8993108022.120855"
      ]
     },
     "execution_count": 12,
     "metadata": {},
     "output_type": "execute_result"
    }
   ],
   "source": [
    "model.inertia_"
   ]
  },
  {
   "cell_type": "markdown",
   "id": "92c3f7f3",
   "metadata": {},
   "source": [
    "Credit Card Data for k = 2"
   ]
  },
  {
   "cell_type": "code",
   "execution_count": 13,
   "id": "693c638a",
   "metadata": {},
   "outputs": [
    {
     "name": "stdout",
     "output_type": "stream",
     "text": [
      "Initialization complete\n",
      "Iteration 0, inertia 133197499804769.97\n",
      "Iteration 1, inertia 118387122772311.6\n",
      "Iteration 2, inertia 118320729057132.44\n",
      "Converged at iteration 2: center shift 4116.304743573539 within tolerance 7517.262262351321.\n",
      "Initialization complete\n",
      "Iteration 0, inertia 217397134618389.03\n",
      "Iteration 1, inertia 119969342982985.11\n",
      "Iteration 2, inertia 118332620375948.28\n",
      "Initialization complete\n",
      "Iteration 0, inertia 186568546424018.4\n",
      "Iteration 1, inertia 119451025740449.81\n",
      "Iteration 2, inertia 118329474501541.7\n",
      "Initialization complete\n",
      "Iteration 0, inertia 179793823891819.7\n",
      "Iteration 1, inertia 118406789111879.89\n",
      "Iteration 2, inertia 118323452868119.0\n"
     ]
    },
    {
     "data": {
      "text/plain": [
       "KMeans(max_iter=3, n_clusters=2, n_init=4, verbose=1)"
      ]
     },
     "execution_count": 13,
     "metadata": {},
     "output_type": "execute_result"
    }
   ],
   "source": [
    "model = KMeans(n_clusters=2, n_init=4, verbose=1, max_iter=3)\n",
    "model.fit(X2)"
   ]
  },
  {
   "cell_type": "code",
   "execution_count": 14,
   "id": "5d3be56f",
   "metadata": {},
   "outputs": [
    {
     "data": {
      "text/plain": [
       "array([[ 1.41083313e+05,  2.73767049e-01, -5.15444169e-02,\n",
       "        -7.06911008e-01, -1.55103617e-01,  2.79380502e-01,\n",
       "        -8.09820247e-02,  1.21060177e-01, -6.12691562e-02,\n",
       "         4.03453498e-02,  3.45519063e-02, -2.43862400e-01,\n",
       "         3.77698228e-02, -3.37779537e-02, -6.54987759e-02,\n",
       "        -2.12086853e-01,  1.37932481e-02, -5.10405524e-02,\n",
       "         8.24898455e-02,  2.46551972e-02, -4.59766665e-02,\n",
       "         4.32965774e-02,  1.27668887e-01,  3.32715680e-02,\n",
       "        -1.36283144e-02, -1.35737230e-01, -2.67064777e-02,\n",
       "        -2.18643134e-03, -3.32139465e-03,  8.80042894e+01],\n",
       "       [ 5.50524450e+04, -2.35260292e-01,  4.42944270e-02,\n",
       "         6.07480303e-01,  1.33287488e-01, -2.40084184e-01,\n",
       "         6.95914823e-02, -1.04032434e-01,  5.26513312e-02,\n",
       "        -3.46705668e-02, -2.96920012e-02,  2.09561887e-01,\n",
       "        -3.24573010e-02,  2.90269091e-02,  5.62860329e-02,\n",
       "         1.82255736e-01, -1.18531561e-02,  4.38614336e-02,\n",
       "        -7.08872202e-02, -2.11873157e-02,  3.95098096e-02,\n",
       "        -3.72066889e-02, -1.09711595e-01, -2.85917491e-02,\n",
       "         1.17114212e-02,  1.16645083e-01,  2.29500729e-02,\n",
       "         1.87889841e-03,  2.85422324e-03,  8.86463767e+01]])"
      ]
     },
     "execution_count": 14,
     "metadata": {},
     "output_type": "execute_result"
    }
   ],
   "source": [
    "model.cluster_centers_"
   ]
  },
  {
   "cell_type": "code",
   "execution_count": 15,
   "id": "0bf59e53",
   "metadata": {},
   "outputs": [
    {
     "data": {
      "text/plain": [
       "118320095020223.72"
      ]
     },
     "execution_count": 15,
     "metadata": {},
     "output_type": "execute_result"
    }
   ],
   "source": [
    "model.inertia_"
   ]
  },
  {
   "cell_type": "markdown",
   "id": "f478f375",
   "metadata": {},
   "source": [
    "Country Data for k = 5"
   ]
  },
  {
   "cell_type": "code",
   "execution_count": 16,
   "id": "5dde3778",
   "metadata": {},
   "outputs": [
    {
     "name": "stdout",
     "output_type": "stream",
     "text": [
      "Initialization complete\n",
      "Iteration 0, inertia 2889028093.155498\n",
      "Iteration 1, inertia 2717269558.1921086\n",
      "Iteration 2, inertia 2704110391.975314\n",
      "Initialization complete\n",
      "Iteration 0, inertia 3295333163.6207714\n",
      "Iteration 1, inertia 2869522403.4372406\n",
      "Iteration 2, inertia 2832973997.1933174\n",
      "Initialization complete\n",
      "Iteration 0, inertia 3025270588.6172094\n",
      "Iteration 1, inertia 2909840001.0567784\n",
      "Iteration 2, inertia 2874583597.3048234\n",
      "Initialization complete\n",
      "Iteration 0, inertia 3040410093.5436487\n",
      "Iteration 1, inertia 2717410920.4940886\n",
      "Iteration 2, inertia 2693101368.7125025\n"
     ]
    },
    {
     "data": {
      "text/plain": [
       "KMeans(max_iter=3, n_clusters=5, n_init=4, verbose=1)"
      ]
     },
     "execution_count": 16,
     "metadata": {},
     "output_type": "execute_result"
    }
   ],
   "source": [
    "model = KMeans(n_clusters=5, n_init=4, verbose=1, max_iter=3)\n",
    "model.fit(X1)"
   ]
  },
  {
   "cell_type": "code",
   "execution_count": 17,
   "id": "e80445f6",
   "metadata": {},
   "outputs": [
    {
     "data": {
      "text/plain": [
       "array([[ 9.83651344e-02,  2.54103108e-01,  6.04003529e-02,\n",
       "        -1.70041712e-02,  1.27166399e-01, -6.45736185e-02,\n",
       "        -8.38463653e-02,  2.53674301e-02,  1.18147742e-02,\n",
       "         2.45559224e-02,  5.11664845e-03, -5.22905530e-03,\n",
       "         6.41475476e-03, -4.40675480e-03,  1.05158842e-02,\n",
       "         2.29428429e-02, -4.59008062e-03, -1.39598504e-02,\n",
       "         1.08309624e-02, -5.92953649e-02, -1.97182136e-02,\n",
       "         1.03818799e-03,  6.74124616e-03,  2.97953032e-03,\n",
       "         1.75356983e-03, -1.64555584e-03,  2.97617850e-03,\n",
       "        -1.46491495e-03,  3.16655816e+01,  1.59640849e-03],\n",
       "       [-3.70843022e+00, -6.38774863e+00, -2.80870489e+00,\n",
       "         1.32446444e+00, -3.81013619e+00,  2.09938947e+00,\n",
       "         4.12031962e+00, -1.12419876e+00, -2.94638143e-01,\n",
       "        -8.68205805e-01,  4.89664347e-02, -9.68806826e-02,\n",
       "         9.78763645e-02,  3.40398805e-01,  9.45513707e-02,\n",
       "         1.77688719e-01,  4.07348875e-02,  1.55725960e-01,\n",
       "        -4.07262315e-01,  2.37250672e+00,  7.02706113e-01,\n",
       "        -5.78397900e-01, -7.62235684e-01,  9.56489667e-02,\n",
       "        -2.85532479e-01, -1.01650919e-02,  5.41269191e-02,\n",
       "         9.12386135e-02,  2.07124164e+03,  2.23048327e-03],\n",
       "       [-3.10957233e-01, -1.11101288e+00, -1.20167167e-01,\n",
       "        -2.16317855e-02, -5.01885500e-01,  2.48264810e-01,\n",
       "         1.54256143e-01, -7.00612325e-02, -4.37929135e-02,\n",
       "        -7.79515240e-02, -4.54305461e-02,  4.89125795e-02,\n",
       "        -4.97971230e-02, -1.13612576e-02, -6.95372340e-02,\n",
       "        -1.79293164e-01,  2.27674197e-02,  1.01438459e-01,\n",
       "        -4.33594737e-02,  1.51677950e-01,  6.53152144e-02,\n",
       "         5.41138015e-02,  1.52359310e-02, -2.67435074e-02,\n",
       "         1.26740819e-02,  7.45773661e-03, -2.61530043e-02,\n",
       "         2.83325223e-03,  2.78443409e+02,  2.26011234e-03],\n",
       "       [-1.00340340e+01, -1.52117704e+01, -7.44986489e+00,\n",
       "         3.91149207e+00, -1.17452096e+01,  6.79241210e+00,\n",
       "         1.31767681e+01, -2.84844360e+00, -6.84045575e-01,\n",
       "        -2.79192665e+00,  3.53040705e-01, -5.03014438e-01,\n",
       "         6.00109117e-01,  5.92747029e-01,  7.29773808e-01,\n",
       "         1.28400942e+00, -1.76304914e-01,  4.77845733e-01,\n",
       "        -1.16044822e+00,  5.33346697e+00,  1.35002813e+00,\n",
       "        -1.60514740e+00, -1.86909508e+00,  2.38337193e-01,\n",
       "        -7.61303979e-01, -2.71437588e-01,  5.89841604e-01,\n",
       "         1.10187178e-01,  5.56343753e+03,  2.16840434e-19],\n",
       "       [-1.31802813e+00, -2.87535853e+00, -1.00018534e+00,\n",
       "         3.88334705e-01, -1.47011877e+00,  7.24064284e-01,\n",
       "         1.33647871e+00, -3.46292734e-01, -1.71545086e-01,\n",
       "        -3.33045022e-01, -2.07692763e-03,  3.52741020e-03,\n",
       "        -4.73464181e-02,  1.37751503e-01, -1.14694799e-01,\n",
       "        -1.08085396e-01,  6.51827229e-02,  1.77667089e-02,\n",
       "        -1.01381338e-01,  9.49586154e-01,  2.73797870e-01,\n",
       "        -1.35728280e-01, -1.28260715e-01, -1.46573051e-02,\n",
       "        -4.96376010e-02,  3.65837788e-02, -1.65890894e-02,\n",
       "         2.14007074e-02,  8.36076118e+02,  4.20233463e-03]])"
      ]
     },
     "execution_count": 17,
     "metadata": {},
     "output_type": "execute_result"
    }
   ],
   "source": [
    "model.cluster_centers_"
   ]
  },
  {
   "cell_type": "code",
   "execution_count": 18,
   "id": "4664df50",
   "metadata": {
    "scrolled": false
   },
   "outputs": [
    {
     "data": {
      "text/plain": [
       "2686047237.9081864"
      ]
     },
     "execution_count": 18,
     "metadata": {},
     "output_type": "execute_result"
    }
   ],
   "source": [
    "model.inertia_"
   ]
  },
  {
   "cell_type": "markdown",
   "id": "943be4e1",
   "metadata": {},
   "source": [
    "Credit Card Data for k = 5"
   ]
  },
  {
   "cell_type": "code",
   "execution_count": null,
   "id": "200b7e0d",
   "metadata": {},
   "outputs": [],
   "source": []
  }
 ],
 "metadata": {
  "kernelspec": {
   "display_name": "Python 3",
   "language": "python",
   "name": "python3"
  },
  "language_info": {
   "codemirror_mode": {
    "name": "ipython",
    "version": 3
   },
   "file_extension": ".py",
   "mimetype": "text/x-python",
   "name": "python",
   "nbconvert_exporter": "python",
   "pygments_lexer": "ipython3",
   "version": "3.9.1"
  }
 },
 "nbformat": 4,
 "nbformat_minor": 5
}
